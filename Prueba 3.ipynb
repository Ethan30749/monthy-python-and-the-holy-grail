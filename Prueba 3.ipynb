{
 "cells": [
  {
   "cell_type": "code",
   "execution_count": 22,
   "metadata": {},
   "outputs": [],
   "source": [
    "import json\n",
    "import numpy as np\n",
    "import pandas as pd\n",
    "import matplotlib as mpl\n",
    "import matplotlib.pyplot as plt"
   ]
  },
  {
   "cell_type": "code",
   "execution_count": 15,
   "metadata": {},
   "outputs": [
    {
     "data": {
      "text/html": [
       "<div>\n",
       "<style scoped>\n",
       "    .dataframe tbody tr th:only-of-type {\n",
       "        vertical-align: middle;\n",
       "    }\n",
       "\n",
       "    .dataframe tbody tr th {\n",
       "        vertical-align: top;\n",
       "    }\n",
       "\n",
       "    .dataframe thead th {\n",
       "        text-align: right;\n",
       "    }\n",
       "</style>\n",
       "<table border=\"1\" class=\"dataframe\">\n",
       "  <thead>\n",
       "    <tr style=\"text-align: right;\">\n",
       "      <th></th>\n",
       "      <th>anho</th>\n",
       "      <th>categoria</th>\n",
       "      <th>nominacion</th>\n",
       "      <th>titulo</th>\n",
       "      <th>subtitulo</th>\n",
       "      <th>url_titulo</th>\n",
       "      <th>url_subtitulo</th>\n",
       "      <th>url_imagen</th>\n",
       "    </tr>\n",
       "  </thead>\n",
       "  <tbody>\n",
       "    <tr>\n",
       "      <td>7854</td>\n",
       "      <td>2019</td>\n",
       "      <td>Best Performance by an Actress in a Supporting...</td>\n",
       "      <td>Nominee</td>\n",
       "      <td>Thandie Newton</td>\n",
       "      <td>Westworld</td>\n",
       "      <td>/person/thandie-newton</td>\n",
       "      <td>/tv-show/westworld</td>\n",
       "      <td>https://www.goldenglobes.com/sites/default/fil...</td>\n",
       "    </tr>\n",
       "    <tr>\n",
       "      <td>7855</td>\n",
       "      <td>2019</td>\n",
       "      <td>Best Performance by an Actress in a Supporting...</td>\n",
       "      <td>Nominee</td>\n",
       "      <td>Yvonne Strahovski</td>\n",
       "      <td>Handmaid's Tale, The</td>\n",
       "      <td>/person/yvonne-strahovski</td>\n",
       "      <td>/tv-show/handmaids-tale</td>\n",
       "      <td>https://www.goldenglobes.com/sites/default/fil...</td>\n",
       "    </tr>\n",
       "    <tr>\n",
       "      <td>7856</td>\n",
       "      <td>2019</td>\n",
       "      <td>Best Performance by an Actress in a Supporting...</td>\n",
       "      <td>Nominee</td>\n",
       "      <td>Alex Borstein</td>\n",
       "      <td>Marvelous Mrs. Maisel, The</td>\n",
       "      <td>/person/alex-borstein</td>\n",
       "      <td>/tv-show/marvelous-mrs-maisel</td>\n",
       "      <td>https://www.goldenglobes.com/sites/default/fil...</td>\n",
       "    </tr>\n",
       "    <tr>\n",
       "      <td>7857</td>\n",
       "      <td>2019</td>\n",
       "      <td>Best Performance by an Actor in a Supporting R...</td>\n",
       "      <td>Winner</td>\n",
       "      <td>Ben Whishaw</td>\n",
       "      <td>Very English Scandal, A</td>\n",
       "      <td>/person/ben-whishaw</td>\n",
       "      <td>/tv-show/very-english-scandal</td>\n",
       "      <td>https://www.goldenglobes.com/sites/default/fil...</td>\n",
       "    </tr>\n",
       "    <tr>\n",
       "      <td>7858</td>\n",
       "      <td>2019</td>\n",
       "      <td>Best Performance by an Actor in a Supporting R...</td>\n",
       "      <td>Nominee</td>\n",
       "      <td>Alan Arkin</td>\n",
       "      <td>Kominsky Method, The</td>\n",
       "      <td>/person/alan-arkin</td>\n",
       "      <td>/tv-show/kominsky-method</td>\n",
       "      <td>https://www.goldenglobes.com/sites/default/fil...</td>\n",
       "    </tr>\n",
       "    <tr>\n",
       "      <td>7859</td>\n",
       "      <td>2019</td>\n",
       "      <td>Best Performance by an Actor in a Supporting R...</td>\n",
       "      <td>Nominee</td>\n",
       "      <td>Kieran Culkin</td>\n",
       "      <td>Succession</td>\n",
       "      <td>/person/kieran-culkin</td>\n",
       "      <td>/tv-show/succession</td>\n",
       "      <td>https://www.goldenglobes.com/sites/default/fil...</td>\n",
       "    </tr>\n",
       "    <tr>\n",
       "      <td>7860</td>\n",
       "      <td>2019</td>\n",
       "      <td>Best Performance by an Actor in a Supporting R...</td>\n",
       "      <td>Nominee</td>\n",
       "      <td>Edgar Ramírez</td>\n",
       "      <td>Assassination of Gianni Versace: American Crim...</td>\n",
       "      <td>/person/edgar-ramirez</td>\n",
       "      <td>/tv-show/assassination-gianni-versace-american...</td>\n",
       "      <td>https://www.goldenglobes.com/sites/default/fil...</td>\n",
       "    </tr>\n",
       "    <tr>\n",
       "      <td>7861</td>\n",
       "      <td>2019</td>\n",
       "      <td>Best Performance by an Actor in a Supporting R...</td>\n",
       "      <td>Nominee</td>\n",
       "      <td>Henry Winkler</td>\n",
       "      <td>Barry</td>\n",
       "      <td>/person/henry-winkler</td>\n",
       "      <td>/tv-show/barry</td>\n",
       "      <td>https://www.goldenglobes.com/sites/default/fil...</td>\n",
       "    </tr>\n",
       "    <tr>\n",
       "      <td>7862</td>\n",
       "      <td>2019</td>\n",
       "      <td>Cecil B. deMille Award</td>\n",
       "      <td>Recipient</td>\n",
       "      <td>Jeff Bridges</td>\n",
       "      <td></td>\n",
       "      <td>/person/jeff-bridges</td>\n",
       "      <td></td>\n",
       "      <td>https://www.goldenglobes.com/sites/default/fil...</td>\n",
       "    </tr>\n",
       "    <tr>\n",
       "      <td>7863</td>\n",
       "      <td>2019</td>\n",
       "      <td>Carol Burnett Award</td>\n",
       "      <td>Recipient</td>\n",
       "      <td>Carol Burnett</td>\n",
       "      <td></td>\n",
       "      <td>/person/carol-burnett</td>\n",
       "      <td></td>\n",
       "      <td>https://www.goldenglobes.com/sites/default/fil...</td>\n",
       "    </tr>\n",
       "  </tbody>\n",
       "</table>\n",
       "</div>"
      ],
      "text/plain": [
       "      anho                                          categoria nominacion  \\\n",
       "7854  2019  Best Performance by an Actress in a Supporting...    Nominee   \n",
       "7855  2019  Best Performance by an Actress in a Supporting...    Nominee   \n",
       "7856  2019  Best Performance by an Actress in a Supporting...    Nominee   \n",
       "7857  2019  Best Performance by an Actor in a Supporting R...     Winner   \n",
       "7858  2019  Best Performance by an Actor in a Supporting R...    Nominee   \n",
       "7859  2019  Best Performance by an Actor in a Supporting R...    Nominee   \n",
       "7860  2019  Best Performance by an Actor in a Supporting R...    Nominee   \n",
       "7861  2019  Best Performance by an Actor in a Supporting R...    Nominee   \n",
       "7862  2019                             Cecil B. deMille Award  Recipient   \n",
       "7863  2019                                Carol Burnett Award  Recipient   \n",
       "\n",
       "                 titulo                                          subtitulo  \\\n",
       "7854     Thandie Newton                                          Westworld   \n",
       "7855  Yvonne Strahovski                               Handmaid's Tale, The   \n",
       "7856      Alex Borstein                         Marvelous Mrs. Maisel, The   \n",
       "7857        Ben Whishaw                            Very English Scandal, A   \n",
       "7858         Alan Arkin                               Kominsky Method, The   \n",
       "7859      Kieran Culkin                                         Succession   \n",
       "7860      Edgar Ramírez  Assassination of Gianni Versace: American Crim...   \n",
       "7861      Henry Winkler                                              Barry   \n",
       "7862       Jeff Bridges                                                      \n",
       "7863      Carol Burnett                                                      \n",
       "\n",
       "                     url_titulo  \\\n",
       "7854     /person/thandie-newton   \n",
       "7855  /person/yvonne-strahovski   \n",
       "7856      /person/alex-borstein   \n",
       "7857        /person/ben-whishaw   \n",
       "7858         /person/alan-arkin   \n",
       "7859      /person/kieran-culkin   \n",
       "7860      /person/edgar-ramirez   \n",
       "7861      /person/henry-winkler   \n",
       "7862       /person/jeff-bridges   \n",
       "7863      /person/carol-burnett   \n",
       "\n",
       "                                          url_subtitulo  \\\n",
       "7854                                 /tv-show/westworld   \n",
       "7855                            /tv-show/handmaids-tale   \n",
       "7856                      /tv-show/marvelous-mrs-maisel   \n",
       "7857                      /tv-show/very-english-scandal   \n",
       "7858                           /tv-show/kominsky-method   \n",
       "7859                                /tv-show/succession   \n",
       "7860  /tv-show/assassination-gianni-versace-american...   \n",
       "7861                                     /tv-show/barry   \n",
       "7862                                                      \n",
       "7863                                                      \n",
       "\n",
       "                                             url_imagen  \n",
       "7854  https://www.goldenglobes.com/sites/default/fil...  \n",
       "7855  https://www.goldenglobes.com/sites/default/fil...  \n",
       "7856  https://www.goldenglobes.com/sites/default/fil...  \n",
       "7857  https://www.goldenglobes.com/sites/default/fil...  \n",
       "7858  https://www.goldenglobes.com/sites/default/fil...  \n",
       "7859  https://www.goldenglobes.com/sites/default/fil...  \n",
       "7860  https://www.goldenglobes.com/sites/default/fil...  \n",
       "7861  https://www.goldenglobes.com/sites/default/fil...  \n",
       "7862  https://www.goldenglobes.com/sites/default/fil...  \n",
       "7863  https://www.goldenglobes.com/sites/default/fil...  "
      ]
     },
     "execution_count": 15,
     "metadata": {},
     "output_type": "execute_result"
    }
   ],
   "source": [
    "archivo=pd.read_json(\"globos_de_oro.zip\")\n",
    "df=pd.DataFrame(archivo)\n",
    "df.tail(10)"
   ]
  },
  {
   "cell_type": "code",
   "execution_count": 53,
   "metadata": {},
   "outputs": [
    {
     "name": "stderr",
     "output_type": "stream",
     "text": [
      "/data/user/0/ru.iiec.pydroid3/files/arm-linux-androideabi/lib/python3.7/site-packages/ipykernel_launcher.py:7: UserWarning: Boolean Series key will be reindexed to match DataFrame index.\n",
      "  import sys\n",
      "/data/user/0/ru.iiec.pydroid3/files/arm-linux-androideabi/lib/python3.7/site-packages/ipykernel_launcher.py:9: UserWarning: Boolean Series key will be reindexed to match DataFrame index.\n",
      "  if __name__ == '__main__':\n"
     ]
    },
    {
     "data": {
      "text/plain": [
       "{'Tom Hanks': {'victorias': 8, 'derrotas': 8}}"
      ]
     },
     "execution_count": 53,
     "metadata": {},
     "output_type": "execute_result"
    }
   ],
   "source": [
    "def total_nominaciones(lista_nombres):\n",
    "    dict={}\n",
    "    for nombre in lista_nombres:\n",
    "        win_count=0\n",
    "        loss_count=0\n",
    "        df_aux=df.loc[df.titulo == nombre]\n",
    "        for Winner in df_aux[df.nominacion == \"Winner\"]:\n",
    "            win_count+=1\n",
    "        for Nominee in df_aux[df.nominacion == \"Nominee\"]:\n",
    "            loss_count+=1\n",
    "    \n",
    "        dict[nombre]={\n",
    "            \"victorias\": win_count,\n",
    "            \"derrotas\": loss_count\n",
    "            }\n",
    "    return dict\n",
    "total_nominaciones([\"Tom Hanks\"])"
   ]
  },
  {
   "cell_type": "code",
   "execution_count": 62,
   "metadata": {},
   "outputs": [
    {
     "name": "stdout",
     "output_type": "stream",
     "text": [
      "4\n",
      "5\n"
     ]
    }
   ],
   "source": [
    "df_aux=df.loc[df.titulo == \"Tom Hanks\"]\n",
    "win_count=0\n",
    "loss_count=0\n",
    "cantidad_V=df_aux.loc[df_aux.nominacion == \"Winner\"].shape[0]\n",
    "cantidad_D=df_aux.loc[df_aux.nominacion == \"Nominee\"].shape[0]\n",
    "for i in range(cantidad_V):\n",
    "    win_count+=1\n",
    "for j in range(cantidad_D):\n",
    "    loss_count+=1\n",
    "print(win_count)\n",
    "print(loss_count)"
   ]
  },
  {
   "cell_type": "code",
   "execution_count": 58,
   "metadata": {
    "scrolled": true
   },
   "outputs": [],
   "source": [
    "df_aux=df.loc[df.titulo == \"Tom Hanks\"]\n",
    "\n",
    "df_win=df_aux.loc[df_aux.nominacion == \"Winner\"]\n",
    "\n",
    "df_loss=df_aux.loc[df_aux.nominacion == \"Nominee\"]"
   ]
  },
  {
   "cell_type": "code",
   "execution_count": 60,
   "metadata": {},
   "outputs": [
    {
     "data": {
      "text/plain": [
       "(4, 8)"
      ]
     },
     "execution_count": 60,
     "metadata": {},
     "output_type": "execute_result"
    }
   ],
   "source": []
  },
  {
   "cell_type": "code",
   "execution_count": null,
   "metadata": {},
   "outputs": [],
   "source": []
  }
 ],
 "metadata": {
  "kernelspec": {
   "display_name": "Python 3",
   "language": "python",
   "name": "python3"
  },
  "language_info": {
   "codemirror_mode": {
    "name": "ipython",
    "version": 3
   },
   "file_extension": ".py",
   "mimetype": "text/x-python",
   "name": "python",
   "nbconvert_exporter": "python",
   "pygments_lexer": "ipython3",
   "version": "3.7.2"
  }
 },
 "nbformat": 4,
 "nbformat_minor": 4
}
